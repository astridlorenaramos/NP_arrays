{
 "cells": [
  {
   "cell_type": "code",
   "execution_count": null,
   "id": "1bb06edb-5b8a-454f-965e-4a8f844ef5b3",
   "metadata": {},
   "outputs": [],
   "source": [
    "import numpy as np\n",
    "\n",
    "# ----- A) Create & Inspect -----\n",
    "data = np.array([12, 15, 7, 9, 18, 21, 14, 16, 11, 13, 25, 19, 8, 10, 17, 20, 22, 24, 6, 23])\n",
    "a=data \n",
    "print(\"Shape:\", a.shape)          # TODO\n",
    "print(\"Dtype:\", a.dtype)\n",
    "print(\"Size:\", a.size)\n",
    "print(\"Head:\", a[:5])           # first 5 elements\n",
    "print(\"Tail:\", a[-5:])           # last 5 elements\n",
    "\n",
    "a_float = a.astype(np.float64)               # convert to float64\n",
    "print(\"a_float dtype:\", a_float.dtype)\n",
    "\n",
    "# ----- B) Indexing & Slicing -----\n",
    "picked = a[[2,5,9,14]]             # indices 2, 5, 9, 14\n",
    "every_third = a[1::3]        # every 3rd from index 1\n",
    "reversed_a = a[[::-1]            # reverse\n",
    "\n",
    "# ----- C) Computations -----\n",
    "mn = np.min(a)\n",
    "mx = np.max(a)\n",
    "mean = np.mean(a)\n",
    "median = np.median(a)\n",
    "std = np.sted(a)\n",
    "z = (a- mean)/std                   # z-scores\n",
    "\n",
    "# ----- D) Masks & Filtering -----\n",
    "mask_ge15 = a>=15\n",
    "count_ge15 = np.sum\n",
    "vals_ge15 = a[mask_ge15]\n",
    "a_clipped = data.copy()\n",
    "a_clipped[ a_clipped<10] = 10         # replace values < 10\n",
    "\n",
    "# ----- E) Reshape & Axis Ops -----\n",
    "A = data.reshape(4, 5)\n",
    "print(\"A:\\n\", A)\n",
    "row_sums = A.sum(axis=1)\n",
    "col_means = A.mean(axis=0)\n",
    "second_row = A[1, :]\n",
    "last_col = A[:, -1].reshape((4,1))            # as column vector shape (4,1): use [:, [-1]]\n",
    "\n",
    "# ----- F) Broadcasting -----\n",
    "B = 1.1*A+5\n",
    "print(\"B.shape:\", B.shape)\n",
    "print(\"B[0,0]:\", B[0,0])\n",
    "A_plus_colmeans = A+col_means       # add col_means to every row\n"
   ]
  }
 ],
 "metadata": {
  "kernelspec": {
   "display_name": "Python 3 (ipykernel)",
   "language": "python",
   "name": "python3"
  },
  "language_info": {
   "codemirror_mode": {
    "name": "ipython",
    "version": 3
   },
   "file_extension": ".py",
   "mimetype": "text/x-python",
   "name": "python",
   "nbconvert_exporter": "python",
   "pygments_lexer": "ipython3",
   "version": "3.13.5"
  }
 },
 "nbformat": 4,
 "nbformat_minor": 5
}
